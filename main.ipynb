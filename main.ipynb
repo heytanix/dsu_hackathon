{
 "cells": [
  {
   "cell_type": "markdown",
   "metadata": {
    "notebookRunGroups": {
     "groupValue": "1"
    }
   },
   "source": [
    "# now by using yolo5s we are able to detect only the vehicals (no labling and recording )"
   ]
  },
  {
   "cell_type": "code",
   "execution_count": null,
   "metadata": {},
   "outputs": [],
   "source": [
    "import cv2\n",
    "import numpy as np\n",
    "import torch\n",
    "from filterpy.kalman import KalmanFilter\n",
    "\n",
    "# Load the pre-trained YOLOv5 model from PyTorch Hub\n",
    "model = torch.hub.load('ultralytics/yolov5', 'yolov5s')  # 'yolov5s' is a lightweight model\n",
    "\n",
    "# SORT Tracker Class\n",
    "class SORT:\n",
    "    def __init__(self):\n",
    "        self.trackers = []\n",
    "        self.next_id = 0\n",
    "\n",
    "    def update(self, detections):\n",
    "        updated_tracks = []\n",
    "        for det in detections:\n",
    "            # Initialize Kalman filter for each new detection\n",
    "            tracker = KalmanFilter(dim_x=7, dim_z=4)\n",
    "            tracker.x[:4] = np.array([det[0], det[1], det[2], det[3]]).reshape((4, 1))\n",
    "            tracker.F = np.eye(7)  # State transition matrix\n",
    "            tracker.H = np.eye(4, 7)  # Measurement function\n",
    "            tracker.P *= 10.\n",
    "\n",
    "            # Assign unique IDs and add to trackers list\n",
    "            tracker.id = self.next_id\n",
    "            self.next_id += 1\n",
    "            updated_tracks.append(tracker)\n",
    "\n",
    "        return updated_tracks\n",
    "\n",
    "# Capture video from webcam (default camera index is 0)\n",
    "cap = cv2.VideoCapture(0)  # Change to 1 or another index if you have multiple cameras\n",
    "\n",
    "# Initialize SORT tracker\n",
    "tracker = SORT()\n",
    "\n",
    "while cap.isOpened():\n",
    "    ret, frame = cap.read()\n",
    "    if not ret:\n",
    "        break\n",
    "\n",
    "    # Object detection using YOLOv5\n",
    "    results = model(frame)\n",
    "    detections = results.xyxy[0].cpu().numpy()  # Bounding boxes (x1, y1, x2, y2, conf, class)\n",
    "\n",
    "    # Filter detections for vehicles (car, truck, bus, etc.)\n",
    "    vehicle_classes = [2, 3, 5, 7]  # COCO classes: 2=car, 3=motorbike, 5=bus, 7=truck\n",
    "    vehicles = [d for d in detections if int(d[5]) in vehicle_classes and d[4] > 0.4]  # Confidence threshold\n",
    "\n",
    "    # Update SORT tracker with vehicle detections\n",
    "    tracks = tracker.update(vehicles)\n",
    "\n",
    "    # Draw Bounding Boxes and Track IDs\n",
    "    for track in tracks:\n",
    "        x1, y1, x2, y2 = track.x[:4].flatten()\n",
    "        cv2.rectangle(frame, (int(x1), int(y1)), (int(x2), int(y2)), (0, 255, 0), 2)\n",
    "        cv2.putText(frame, f'ID: {track.id}', (int(x1), int(y1) - 10),\n",
    "                    cv2.FONT_HERSHEY_SIMPLEX, 0.6, (0, 255, 0), 2)\n",
    "\n",
    "    # Display the frame with tracking\n",
    "    cv2.imshow('Real-Time Multi-Object Tracking', frame)\n",
    "    if cv2.waitKey(1) & 0xFF == ord('q'):  # Press 'q' to quit\n",
    "        break\n",
    "\n",
    "# Release resources\n",
    "cap.release()\n",
    "cv2.destroyAllWindows()\n"
   ]
  }
 ],
 "metadata": {
  "kernelspec": {
   "display_name": ".venv",
   "language": "python",
   "name": "python3"
  },
  "language_info": {
   "codemirror_mode": {
    "name": "ipython",
    "version": 3
   },
   "file_extension": ".py",
   "mimetype": "text/x-python",
   "name": "python",
   "nbconvert_exporter": "python",
   "pygments_lexer": "ipython3",
   "version": "3.12.7"
  }
 },
 "nbformat": 4,
 "nbformat_minor": 2
}
